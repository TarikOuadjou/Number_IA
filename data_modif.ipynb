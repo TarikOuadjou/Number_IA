{
 "cells": [
  {
   "cell_type": "code",
   "execution_count": 108,
   "metadata": {},
   "outputs": [],
   "source": [
    "import pandas as pd\n",
    "import matplotlib.pyplot as plt\n",
    "import numpy as np\n",
    "from scipy.ndimage import rotate\n",
    "from scipy.ndimage import zoom\n",
    "from scipy.ndimage import shift\n",
    "import random"
   ]
  },
  {
   "cell_type": "code",
   "execution_count": 83,
   "metadata": {},
   "outputs": [],
   "source": [
    "file_path = 'mnist_train.csv'  \n",
    "df = pd.read_csv(file_path)"
   ]
  },
  {
   "cell_type": "code",
   "execution_count": 268,
   "metadata": {},
   "outputs": [],
   "source": [
    "labels = df.iloc[:, 0]  \n",
    "images = df.iloc[:, 1:]  \n",
    "new_images = images.copy()\n",
    "for index, row in images.iterrows():\n",
    "    image_data = row.values  \n",
    "    \n",
    "    image = image_data.reshape(28, 28)\n",
    "    angle_random = random.gauss(0, 30)\n",
    "    rotated_image = rotate(image, angle_random, reshape=False, mode='nearest')\n",
    "    \n",
    "    zoom_random = random.gauss(1,0.1)\n",
    "    zoomed_image = zoom(rotated_image, zoom_random)[0:28, 0:28]\n",
    "\n",
    "    offset_x_random = random.gauss(0,3)\n",
    "    offset_y_random = random.gauss(0,3)\n",
    "    shifted_image = shift(zoomed_image, shift=(offset_y_random, offset_x_random), mode='nearest')\n",
    "    shifted_image_int = np.round(shifted_image).astype(int)\n",
    "    ligne = shifted_image_int.reshape(-1)\n",
    "    new_images.loc[index] = ligne\n",
    "\n",
    "final_df = pd.concat([labels, new_images], axis=1)\n",
    "final_df.to_csv('mnist_train_modify.csv', index=False)"
   ]
  }
 ],
 "metadata": {
  "kernelspec": {
   "display_name": "Python 3",
   "language": "python",
   "name": "python3"
  },
  "language_info": {
   "codemirror_mode": {
    "name": "ipython",
    "version": 3
   },
   "file_extension": ".py",
   "mimetype": "text/x-python",
   "name": "python",
   "nbconvert_exporter": "python",
   "pygments_lexer": "ipython3",
   "version": "3.11.9"
  }
 },
 "nbformat": 4,
 "nbformat_minor": 2
}
